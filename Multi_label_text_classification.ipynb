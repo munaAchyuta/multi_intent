{
 "cells": [
  {
   "cell_type": "markdown",
   "metadata": {},
   "source": [
    "https://towardsdatascience.com/multi-label-text-classification-with-scikit-learn-30714b7819c5"
   ]
  },
  {
   "cell_type": "code",
   "execution_count": 1,
   "metadata": {},
   "outputs": [],
   "source": [
    "%matplotlib inline\n",
    "import re\n",
    "import matplotlib\n",
    "import numpy as np\n",
    "import matplotlib.pyplot as plt\n",
    "import pandas as pd\n",
    "from sklearn.model_selection import train_test_split\n",
    "from sklearn.feature_extraction.text import TfidfVectorizer\n",
    "from sklearn.naive_bayes import MultinomialNB\n",
    "from sklearn.metrics import accuracy_score\n",
    "from sklearn.multiclass import OneVsRestClassifier\n",
    "from nltk.corpus import stopwords\n",
    "stop_words = set(stopwords.words('english'))\n",
    "from sklearn.svm import LinearSVC\n",
    "from sklearn.linear_model import LogisticRegression\n",
    "from sklearn.pipeline import Pipeline\n",
    "import seaborn as sns"
   ]
  },
  {
   "cell_type": "code",
   "execution_count": 2,
   "metadata": {},
   "outputs": [],
   "source": [
    "df = pd.read_csv(\"data/train.csv\", encoding = \"ISO-8859-1\")"
   ]
  },
  {
   "cell_type": "markdown",
   "metadata": {},
   "source": [
    "### Number of comments in each category"
   ]
  },
  {
   "cell_type": "code",
   "execution_count": 3,
   "metadata": {},
   "outputs": [
    {
     "data": {
      "text/html": [
       "<div>\n",
       "<style scoped>\n",
       "    .dataframe tbody tr th:only-of-type {\n",
       "        vertical-align: middle;\n",
       "    }\n",
       "\n",
       "    .dataframe tbody tr th {\n",
       "        vertical-align: top;\n",
       "    }\n",
       "\n",
       "    .dataframe thead th {\n",
       "        text-align: right;\n",
       "    }\n",
       "</style>\n",
       "<table border=\"1\" class=\"dataframe\">\n",
       "  <thead>\n",
       "    <tr style=\"text-align: right;\">\n",
       "      <th></th>\n",
       "      <th>category</th>\n",
       "      <th>number_of_comments</th>\n",
       "    </tr>\n",
       "  </thead>\n",
       "  <tbody>\n",
       "    <tr>\n",
       "      <th>0</th>\n",
       "      <td>toxic</td>\n",
       "      <td>15294</td>\n",
       "    </tr>\n",
       "    <tr>\n",
       "      <th>1</th>\n",
       "      <td>severe_toxic</td>\n",
       "      <td>1595</td>\n",
       "    </tr>\n",
       "    <tr>\n",
       "      <th>2</th>\n",
       "      <td>obscene</td>\n",
       "      <td>8449</td>\n",
       "    </tr>\n",
       "    <tr>\n",
       "      <th>3</th>\n",
       "      <td>threat</td>\n",
       "      <td>478</td>\n",
       "    </tr>\n",
       "    <tr>\n",
       "      <th>4</th>\n",
       "      <td>insult</td>\n",
       "      <td>7877</td>\n",
       "    </tr>\n",
       "    <tr>\n",
       "      <th>5</th>\n",
       "      <td>identity_hate</td>\n",
       "      <td>1405</td>\n",
       "    </tr>\n",
       "  </tbody>\n",
       "</table>\n",
       "</div>"
      ],
      "text/plain": [
       "        category  number_of_comments\n",
       "0          toxic               15294\n",
       "1   severe_toxic                1595\n",
       "2        obscene                8449\n",
       "3         threat                 478\n",
       "4         insult                7877\n",
       "5  identity_hate                1405"
      ]
     },
     "execution_count": 3,
     "metadata": {},
     "output_type": "execute_result"
    }
   ],
   "source": [
    "df_toxic = df.drop(['id', 'comment_text'], axis=1)\n",
    "counts = []\n",
    "categories = list(df_toxic.columns.values)\n",
    "for i in categories:\n",
    "    counts.append((i, df_toxic[i].sum()))\n",
    "df_stats = pd.DataFrame(counts, columns=['category', 'number_of_comments'])\n",
    "df_stats"
   ]
  },
  {
   "cell_type": "code",
   "execution_count": 4,
   "metadata": {},
   "outputs": [
    {
     "data": {
      "text/plain": [
       "Text(0.5,0,'category')"
      ]
     },
     "execution_count": 4,
     "metadata": {},
     "output_type": "execute_result"
    },
    {
     "data": {
      "image/png": "[encoded data removed]",
      "text/plain": [
       "<Figure size 576x360 with 1 Axes>"
      ]
     },
     "metadata": {},
     "output_type": "display_data"
    }
   ],
   "source": [
    "df_stats.plot(x='category', y='number_of_comments', kind='bar', legend=False, grid=True, figsize=(8, 5))\n",
    "plt.title(\"Number of comments per category\")\n",
    "plt.ylabel('# of Occurrences', fontsize=12)\n",
    "plt.xlabel('category', fontsize=12)"
   ]
  },
  {
   "cell_type": "markdown",
   "metadata": {},
   "source": [
    "### Multi-Label\n",
    "\n",
    "How many comments have multiple labels?"
   ]
  },
  {
   "cell_type": "code",
   "execution_count": 5,
   "metadata": {},
   "outputs": [
    {
     "data": {
      "text/plain": [
       "Text(0.5,0,'# of categories')"
      ]
     },
     "execution_count": 5,
     "metadata": {},
     "output_type": "execute_result"
    },
    {
     "data": {
      "image/png": "[encoded data removed]",
      "text/plain": [
       "<Figure size 576x360 with 1 Axes>"
      ]
     },
     "metadata": {},
     "output_type": "display_data"
    }
   ],
   "source": [
    "rowsums = df.iloc[:,2:].sum(axis=1)\n",
    "x=rowsums.value_counts()\n",
    "\n",
    "#plot\n",
    "plt.figure(figsize=(8,5))\n",
    "ax = sns.barplot(x.index, x.values)\n",
    "plt.title(\"Multiple categories per comment\")\n",
    "plt.ylabel('# of Occurrences', fontsize=12)\n",
    "plt.xlabel('# of categories', fontsize=12)"
   ]
  },
  {
   "cell_type": "markdown",
   "metadata": {},
   "source": [
    "Vast majority of the comment texts are not labeled."
   ]
  },
  {
   "cell_type": "markdown",
   "metadata": {},
   "source": [
    "The distribution of the number of words in comment texts."
   ]
  },
  {
   "cell_type": "code",
   "execution_count": 6,
   "metadata": {},
   "outputs": [
    {
     "data": {
      "text/plain": [
       "<matplotlib.axes._subplots.AxesSubplot at 0x7fdd2baf7b90>"
      ]
     },
     "execution_count": 6,
     "metadata": {},
     "output_type": "execute_result"
    },
    {
     "data": {
      "image/png": "[encoded data removed]",
      "text/plain": [
       "<Figure size 432x288 with 1 Axes>"
      ]
     },
     "metadata": {},
     "output_type": "display_data"
    }
   ],
   "source": [
    "lens = df.comment_text.str.len()\n",
    "lens.hist(bins = np.arange(0,5000,50))"
   ]
  },
  {
   "cell_type": "markdown",
   "metadata": {},
   "source": [
    "Most of the comment text length are within 500 characters, with some outliers up to 5,000 characters long."
   ]
  },
  {
   "cell_type": "code",
   "execution_count": 7,
   "metadata": {},
   "outputs": [
    {
     "name": "stdout",
     "output_type": "stream",
     "text": [
      "Percentage of comments that are not labelled:\n",
      "0\n"
     ]
    }
   ],
   "source": [
    "print('Percentage of comments that are not labelled:')\n",
    "print(len(df[(df['toxic']==0) & (df['severe_toxic']==0) & (df['obscene']==0) & (df['threat']== 0) & (df['insult']==0) & (df['identity_hate']==0)]) / len(df))"
   ]
  },
  {
   "cell_type": "markdown",
   "metadata": {},
   "source": [
    "There is no missing comment in comment text column."
   ]
  },
  {
   "cell_type": "code",
   "execution_count": 8,
   "metadata": {},
   "outputs": [
    {
     "name": "stdout",
     "output_type": "stream",
     "text": [
      "Number of missing comments in comment text:\n"
     ]
    },
    {
     "data": {
      "text/plain": [
       "0"
      ]
     },
     "execution_count": 8,
     "metadata": {},
     "output_type": "execute_result"
    }
   ],
   "source": [
    "print('Number of missing comments in comment text:')\n",
    "df['comment_text'].isnull().sum()"
   ]
  },
  {
   "cell_type": "markdown",
   "metadata": {},
   "source": [
    "Have a peek the first comment, the text needs clean."
   ]
  },
  {
   "cell_type": "code",
   "execution_count": 9,
   "metadata": {},
   "outputs": [
    {
     "data": {
      "text/plain": [
       "u\"Explanation\\nWhy the edits made under my username Hardcore Metallica Fan were reverted? They weren't vandalisms, just closure on some GAs after I voted at New York Dolls FAC. And please don't remove the template from the talk page since I'm retired now.89.205.38.27\""
      ]
     },
     "execution_count": 9,
     "metadata": {},
     "output_type": "execute_result"
    }
   ],
   "source": [
    "df['comment_text'][0]"
   ]
  },
  {
   "cell_type": "code",
   "execution_count": 10,
   "metadata": {},
   "outputs": [],
   "source": [
    "categories = ['toxic', 'severe_toxic', 'obscene', 'threat', 'insult', 'identity_hate']"
   ]
  },
  {
   "cell_type": "markdown",
   "metadata": {},
   "source": [
    "### Create a function to clean the text"
   ]
  },
  {
   "cell_type": "code",
   "execution_count": 11,
   "metadata": {},
   "outputs": [],
   "source": [
    "def clean_text(text):\n",
    "    text = text.lower()\n",
    "    text = re.sub(r\"what's\", \"what is \", text)\n",
    "    text = re.sub(r\"\\'s\", \" \", text)\n",
    "    text = re.sub(r\"\\'ve\", \" have \", text)\n",
    "    text = re.sub(r\"can't\", \"can not \", text)\n",
    "    text = re.sub(r\"n't\", \" not \", text)\n",
    "    text = re.sub(r\"i'm\", \"i am \", text)\n",
    "    text = re.sub(r\"\\'re\", \" are \", text)\n",
    "    text = re.sub(r\"\\'d\", \" would \", text)\n",
    "    text = re.sub(r\"\\'ll\", \" will \", text)\n",
    "    text = re.sub(r\"\\'scuse\", \" excuse \", text)\n",
    "    text = re.sub('\\W', ' ', text)\n",
    "    text = re.sub('\\s+', ' ', text)\n",
    "    text = text.strip(' ')\n",
    "    return text"
   ]
  },
  {
   "cell_type": "markdown",
   "metadata": {},
   "source": [
    "### Clean up comment_text column "
   ]
  },
  {
   "cell_type": "code",
   "execution_count": 12,
   "metadata": {},
   "outputs": [],
   "source": [
    "df['comment_text'] = df['comment_text'].map(lambda com : clean_text(com))"
   ]
  },
  {
   "cell_type": "markdown",
   "metadata": {},
   "source": [
    "Much better!"
   ]
  },
  {
   "cell_type": "code",
   "execution_count": 13,
   "metadata": {},
   "outputs": [
    {
     "data": {
      "text/plain": [
       "u'explanation why the edits made under my username hardcore metallica fan were reverted they were not vandalisms just closure on some gas after i voted at new york dolls fac and please do not remove the template from the talk page since i am retired now 89 205 38 27'"
      ]
     },
     "execution_count": 13,
     "metadata": {},
     "output_type": "execute_result"
    }
   ],
   "source": [
    "df['comment_text'][0]"
   ]
  },
  {
   "cell_type": "markdown",
   "metadata": {},
   "source": [
    "### Split to train and test sets"
   ]
  },
  {
   "cell_type": "code",
   "execution_count": 14,
   "metadata": {},
   "outputs": [],
   "source": [
    "train, test = train_test_split(df, random_state=42, test_size=0.33, shuffle=True)"
   ]
  },
  {
   "cell_type": "code",
   "execution_count": 15,
   "metadata": {},
   "outputs": [
    {
     "name": "stdout",
     "output_type": "stream",
     "text": [
      "(106912,)\n",
      "(52659,)\n"
     ]
    }
   ],
   "source": [
    "X_train = train.comment_text\n",
    "X_test = test.comment_text\n",
    "print(X_train.shape)\n",
    "print(X_test.shape)"
   ]
  },
  {
   "cell_type": "code",
   "execution_count": 40,
   "metadata": {},
   "outputs": [
    {
     "name": "stdout",
     "output_type": "stream",
     "text": [
      "                      id                                       comment_text  \\\n",
      "71398   bf20893fb08e02ce  and you are a motherfucking asshole suck your ...   \n",
      "16423   2b4077833a3730bf  please do not add defamatory content to wikipe...   \n",
      "138234  e3b8bc8940f2a818  oaks and homophobia i provided a full citation...   \n",
      "62883   a83932247fc191ff                 listen up go fuck yourself asswipe   \n",
      "28027   4a25b2ea6cf8f636  you are a pompous juvenile self aggrandizing f...   \n",
      "144894  1429a2c930688317                          you fucking piece of shit   \n",
      "125281  9e1ae3198f36411c  fred shut up you sad old twat no one is intere...   \n",
      "155051  b825a93b71af1972  why are you still harassing me do you love bos...   \n",
      "24088   3fa752bec4e7f1d8      hello go fuck yourself kid adults are talking   \n",
      "\n",
      "        toxic  severe_toxic  obscene  threat  insult  identity_hate  \n",
      "71398       1             1        1       0       1              0  \n",
      "16423       1             0        1       0       1              0  \n",
      "138234      1             0        1       0       0              0  \n",
      "62883       1             0        1       0       1              0  \n",
      "28027       1             0        1       0       1              0  \n",
      "144894      1             1        1       0       1              0  \n",
      "125281      1             0        1       0       1              1  \n",
      "155051      1             0        1       0       1              1  \n",
      "24088       1             1        1       0       1              0  \n"
     ]
    }
   ],
   "source": [
    "cheche_test = test[test['id'].isin(['e3b8bc8940f2a818','bf20893fb08e02ce','2b4077833a3730bf','a83932247fc191ff','4a25b2ea6cf8f636','1429a2c930688317','9e1ae3198f36411c','b825a93b71af1972','3fa752bec4e7f1d8'])]\n",
    "print cheche_test\n",
    "X_cheche_test = cheche_test.comment_text\n",
    "#e3b8bc8940f2a818,bf20893fb08e02ce,2b4077833a3730bf,a83932247fc191ff,4a25b2ea6cf8f636,1429a2c930688317,9e1ae3198f36411c,b825a93b71af1972,3fa752bec4e7f1d8"
   ]
  },
  {
   "cell_type": "markdown",
   "metadata": {},
   "source": [
    "### Pipeline\n",
    "\n",
    "scikit-learn provides a Pipeline utility to help automate machine learning workflows. Pipelines are very common in Machine Learning systems, since there is a lot of data to manipulate and many data transformations to apply. So we will utilize pipeline to train every classifier."
   ]
  },
  {
   "cell_type": "markdown",
   "metadata": {},
   "source": [
    "### OneVsRest multilabel strategy\n",
    "\n",
    "The Multi-label algorithm accepts a binary mask over multiple labels. The result for each prediction will be an array of 0s and 1s marking which class labels apply to each row input sample."
   ]
  },
  {
   "cell_type": "markdown",
   "metadata": {},
   "source": [
    "### Naive Bayes\n",
    "\n",
    "OneVsRest strategy can be used for multilabel learning, where a classifier is used to predict multiple labels for instance. Naive Bayes supports multi-class, but we are in a multi-label scenario, therefore, we wrapp Naive Bayes in the OneVsRestClassifier."
   ]
  },
  {
   "cell_type": "code",
   "execution_count": 16,
   "metadata": {},
   "outputs": [],
   "source": [
    "# Define a pipeline combining a text feature extractor with multi lable classifier\n",
    "NB_pipeline = Pipeline([\n",
    "                ('tfidf', TfidfVectorizer(stop_words=stop_words)),\n",
    "                ('clf', OneVsRestClassifier(MultinomialNB(\n",
    "                    fit_prior=True, class_prior=None))),\n",
    "            ])"
   ]
  },
  {
   "cell_type": "code",
   "execution_count": 45,
   "metadata": {},
   "outputs": [
    {
     "name": "stdout",
     "output_type": "stream",
     "text": [
      "... Processing toxic\n",
      "======\n",
      "29614     sockpuppetry case you have been accused of soc...\n",
      "109036    i have read the archives and various national ...\n",
      "Name: comment_text, dtype: object\n",
      "29614     0\n",
      "109036    0\n",
      "Name: toxic, dtype: int64\n",
      "** [1 0 0 1 1 1 0 0 0]\n",
      "*** [[0.00523156 0.99476844]\n",
      " [0.99211265 0.00788735]\n",
      " [0.90972248 0.09027752]\n",
      " [0.16627208 0.83372792]\n",
      " [0.45833499 0.54166501]\n",
      " [0.04603246 0.95396754]\n",
      " [0.81773904 0.18226096]\n",
      " [0.99633648 0.00366352]\n",
      " [0.83502514 0.16497486]]\n",
      "Test accuracy is 0.919576900435\n",
      "... Processing severe_toxic\n",
      "======\n",
      "29614     sockpuppetry case you have been accused of soc...\n",
      "109036    i have read the archives and various national ...\n",
      "Name: comment_text, dtype: object\n",
      "29614     0\n",
      "109036    0\n",
      "Name: severe_toxic, dtype: int64\n",
      "** [0 0 0 0 0 0 0 0 0]\n",
      "*** [[9.73865064e-01 2.61349357e-02]\n",
      " [9.99999936e-01 6.35236122e-08]\n",
      " [9.99151568e-01 8.48431504e-04]\n",
      " [9.96522533e-01 3.47746675e-03]\n",
      " [9.95822202e-01 4.17779824e-03]\n",
      " [9.89936429e-01 1.00635714e-02]\n",
      " [9.99994404e-01 5.59585113e-06]\n",
      " [1.00000000e+00 1.21935204e-10]\n",
      " [9.99740027e-01 2.59973177e-04]]\n",
      "Test accuracy is 0.990011204163\n",
      "... Processing obscene\n",
      "======\n",
      "29614     sockpuppetry case you have been accused of soc...\n",
      "109036    i have read the archives and various national ...\n",
      "Name: comment_text, dtype: object\n",
      "29614     0\n",
      "109036    0\n",
      "Name: obscene, dtype: int64\n",
      "** [1 0 0 1 0 1 0 0 0]\n",
      "*** [[3.16607992e-02 9.68339201e-01]\n",
      " [9.99766779e-01 2.33221259e-04]\n",
      " [9.82130096e-01 1.78699039e-02]\n",
      " [4.18743895e-01 5.81256105e-01]\n",
      " [7.30284411e-01 2.69715589e-01]\n",
      " [1.85154911e-01 8.14845089e-01]\n",
      " [9.86949879e-01 1.30501213e-02]\n",
      " [9.99982203e-01 1.77969619e-05]\n",
      " [9.65554257e-01 3.44457432e-02]]\n",
      "Test accuracy is 0.95165118973\n",
      "... Processing threat\n",
      "======\n",
      "29614     sockpuppetry case you have been accused of soc...\n",
      "109036    i have read the archives and various national ...\n",
      "Name: comment_text, dtype: object\n",
      "29614     0\n",
      "109036    0\n",
      "Name: threat, dtype: int64\n",
      "** [0 0 0 0 0 0 0 0 0]\n",
      "*** [[9.99970336e-01 2.96636913e-05]\n",
      " [9.99999995e-01 5.40631186e-09]\n",
      " [9.99875118e-01 1.24882051e-04]\n",
      " [9.99814717e-01 1.85282768e-04]\n",
      " [9.99331556e-01 6.68444339e-04]\n",
      " [9.99808188e-01 1.91811567e-04]\n",
      " [9.99999896e-01 1.03848417e-07]\n",
      " [1.00000000e+00 9.32370162e-13]\n",
      " [9.99987102e-01 1.28977161e-05]]\n",
      "Test accuracy is 0.997113503864\n",
      "... Processing insult\n",
      "======\n",
      "29614     sockpuppetry case you have been accused of soc...\n",
      "109036    i have read the archives and various national ...\n",
      "Name: comment_text, dtype: object\n",
      "29614     0\n",
      "109036    0\n",
      "Name: insult, dtype: int64\n",
      "** [1 0 0 0 0 0 0 0 0]\n",
      "*** [[8.39786085e-02 9.16021392e-01]\n",
      " [9.99869504e-01 1.30495680e-04]\n",
      " [9.87514089e-01 1.24859113e-02]\n",
      " [7.48842098e-01 2.51157902e-01]\n",
      " [8.19492252e-01 1.80507748e-01]\n",
      " [5.45167377e-01 4.54832623e-01]\n",
      " [9.92437048e-01 7.56295170e-03]\n",
      " [9.99994612e-01 5.38782723e-06]\n",
      " [9.88024902e-01 1.19750975e-02]]\n",
      "Test accuracy is 0.951784120473\n",
      "... Processing identity_hate\n",
      "======\n",
      "29614     sockpuppetry case you have been accused of soc...\n",
      "109036    i have read the archives and various national ...\n",
      "Name: comment_text, dtype: object\n",
      "29614     0\n",
      "109036    0\n",
      "Name: identity_hate, dtype: int64\n",
      "** [0 0 0 0 0 0 0 0 0]\n",
      "*** [[9.98413847e-01 1.58615279e-03]\n",
      " [9.99999952e-01 4.76239685e-08]\n",
      " [9.99385128e-01 6.14872290e-04]\n",
      " [9.98466239e-01 1.53376133e-03]\n",
      " [9.97380803e-01 2.61919749e-03]\n",
      " [9.97714879e-01 2.28512068e-03]\n",
      " [9.99995477e-01 4.52259756e-06]\n",
      " [1.00000000e+00 8.91833939e-11]\n",
      " [9.99906475e-01 9.35250136e-05]]\n",
      "Test accuracy is 0.991055660001\n"
     ]
    }
   ],
   "source": [
    "for category in categories:\n",
    "    print('... Processing {}'.format(category))\n",
    "    # train the model using X_dtm & y\n",
    "    print \"======\"\n",
    "    print X_train[:2]\n",
    "    print train[category][:2]\n",
    "    NB_pipeline.fit(X_train, train[category])\n",
    "    # compute the testing accuracy\n",
    "    prediction = NB_pipeline.predict(X_test)\n",
    "    print \"**\",NB_pipeline.predict(X_cheche_test)\n",
    "    print \"***\",NB_pipeline.predict_proba(X_cheche_test)\n",
    "    print('Test accuracy is {}'.format(accuracy_score(test[category], prediction)))"
   ]
  },
  {
   "cell_type": "code",
   "execution_count": 48,
   "metadata": {},
   "outputs": [
    {
     "data": {
      "text/plain": [
       "array([0, 1])"
      ]
     },
     "execution_count": 48,
     "metadata": {},
     "output_type": "execute_result"
    }
   ],
   "source": [
    "NB_pipeline.classes_"
   ]
  },
  {
   "cell_type": "code",
   "execution_count": 18,
   "metadata": {},
   "outputs": [
    {
     "data": {
      "text/plain": [
       "u'explanation why the edits made under my username hardcore metallica fan were reverted they were not vandalisms just closure on some gas after i voted at new york dolls fac and please do not remove the template from the talk page since i am retired now 89 205 38 27'"
      ]
     },
     "execution_count": 18,
     "metadata": {},
     "output_type": "execute_result"
    }
   ],
   "source": [
    "X_test[0]"
   ]
  },
  {
   "cell_type": "code",
   "execution_count": 44,
   "metadata": {},
   "outputs": [
    {
     "name": "stdout",
     "output_type": "stream",
     "text": [
      "... Processing toxic\n",
      "[[9.99850254e-01 1.49745717e-04]]\n",
      "[0]\n",
      "... Processing severe_toxic\n",
      "[[9.99850254e-01 1.49745717e-04]]\n",
      "[0]\n",
      "... Processing obscene\n",
      "[[9.99850254e-01 1.49745717e-04]]\n",
      "[0]\n",
      "... Processing threat\n",
      "[[9.99850254e-01 1.49745717e-04]]\n",
      "[0]\n",
      "... Processing insult\n",
      "[[9.99850254e-01 1.49745717e-04]]\n",
      "[0]\n",
      "... Processing identity_hate\n",
      "[[9.99850254e-01 1.49745717e-04]]\n",
      "[0]\n"
     ]
    }
   ],
   "source": [
    "for category in categories:\n",
    "    print('... Processing {}'.format(category))\n",
    "    print NB_pipeline.predict_proba(['COCKSUCKER BEFORE YOU PISS AROUND ON MY WORK'])\n",
    "    print NB_pipeline.predict(['COCKSUCKER BEFORE YOU PISS AROUND ON MY WORK'])"
   ]
  },
  {
   "cell_type": "code",
   "execution_count": 20,
   "metadata": {},
   "outputs": [
    {
     "data": {
      "text/plain": [
       "array([0, 0, 0, 0, 0, 0, 0, 0, 0, 0])"
      ]
     },
     "execution_count": 20,
     "metadata": {},
     "output_type": "execute_result"
    }
   ],
   "source": [
    "prediction[:10]"
   ]
  },
  {
   "cell_type": "markdown",
   "metadata": {},
   "source": [
    "### LinearSVC"
   ]
  },
  {
   "cell_type": "code",
   "execution_count": 41,
   "metadata": {},
   "outputs": [],
   "source": [
    "SVC_pipeline = Pipeline([\n",
    "                ('tfidf', TfidfVectorizer(stop_words=stop_words)),\n",
    "                ('clf', OneVsRestClassifier(LinearSVC(), n_jobs=1)),\n",
    "            ])"
   ]
  },
  {
   "cell_type": "code",
   "execution_count": 42,
   "metadata": {},
   "outputs": [
    {
     "name": "stdout",
     "output_type": "stream",
     "text": [
      "... Processing toxic\n",
      "** [0 0 0 0 0 0 0 0 0]\n",
      "*** [[9.98413847e-01 1.58615279e-03]\n",
      " [9.99999952e-01 4.76239685e-08]\n",
      " [9.99385128e-01 6.14872290e-04]\n",
      " [9.98466239e-01 1.53376133e-03]\n",
      " [9.97380803e-01 2.61919749e-03]\n",
      " [9.97714879e-01 2.28512068e-03]\n",
      " [9.99995477e-01 4.52259756e-06]\n",
      " [1.00000000e+00 8.91833939e-11]\n",
      " [9.99906475e-01 9.35250136e-05]]\n",
      "Test accuracy is 0.959816935377\n",
      "... Processing severe_toxic\n",
      "** [0 0 0 0 0 0 0 0 0]\n",
      "*** [[9.98413847e-01 1.58615279e-03]\n",
      " [9.99999952e-01 4.76239685e-08]\n",
      " [9.99385128e-01 6.14872290e-04]\n",
      " [9.98466239e-01 1.53376133e-03]\n",
      " [9.97380803e-01 2.61919749e-03]\n",
      " [9.97714879e-01 2.28512068e-03]\n",
      " [9.99995477e-01 4.52259756e-06]\n",
      " [1.00000000e+00 8.91833939e-11]\n",
      " [9.99906475e-01 9.35250136e-05]]\n",
      "Test accuracy is 0.990656867772\n",
      "... Processing obscene\n",
      "** [0 0 0 0 0 0 0 0 0]\n",
      "*** [[9.98413847e-01 1.58615279e-03]\n",
      " [9.99999952e-01 4.76239685e-08]\n",
      " [9.99385128e-01 6.14872290e-04]\n",
      " [9.98466239e-01 1.53376133e-03]\n",
      " [9.97380803e-01 2.61919749e-03]\n",
      " [9.97714879e-01 2.28512068e-03]\n",
      " [9.99995477e-01 4.52259756e-06]\n",
      " [1.00000000e+00 8.91833939e-11]\n",
      " [9.99906475e-01 9.35250136e-05]]\n",
      "Test accuracy is 0.978977952487\n",
      "... Processing threat\n",
      "** [0 0 0 0 0 0 0 0 0]\n",
      "*** [[9.98413847e-01 1.58615279e-03]\n",
      " [9.99999952e-01 4.76239685e-08]\n",
      " [9.99385128e-01 6.14872290e-04]\n",
      " [9.98466239e-01 1.53376133e-03]\n",
      " [9.97380803e-01 2.61919749e-03]\n",
      " [9.97714879e-01 2.28512068e-03]\n",
      " [9.99995477e-01 4.52259756e-06]\n",
      " [1.00000000e+00 8.91833939e-11]\n",
      " [9.99906475e-01 9.35250136e-05]]\n",
      "Test accuracy is 0.997455325775\n",
      "... Processing insult\n",
      "** [0 0 0 0 0 0 0 0 0]\n",
      "*** [[9.98413847e-01 1.58615279e-03]\n",
      " [9.99999952e-01 4.76239685e-08]\n",
      " [9.99385128e-01 6.14872290e-04]\n",
      " [9.98466239e-01 1.53376133e-03]\n",
      " [9.97380803e-01 2.61919749e-03]\n",
      " [9.97714879e-01 2.28512068e-03]\n",
      " [9.99995477e-01 4.52259756e-06]\n",
      " [1.00000000e+00 8.91833939e-11]\n",
      " [9.99906475e-01 9.35250136e-05]]\n",
      "Test accuracy is 0.971286959494\n",
      "... Processing identity_hate\n",
      "** [0 0 0 0 0 0 0 0 0]\n",
      "*** [[9.98413847e-01 1.58615279e-03]\n",
      " [9.99999952e-01 4.76239685e-08]\n",
      " [9.99385128e-01 6.14872290e-04]\n",
      " [9.98466239e-01 1.53376133e-03]\n",
      " [9.97380803e-01 2.61919749e-03]\n",
      " [9.97714879e-01 2.28512068e-03]\n",
      " [9.99995477e-01 4.52259756e-06]\n",
      " [1.00000000e+00 8.91833939e-11]\n",
      " [9.99906475e-01 9.35250136e-05]]\n",
      "Test accuracy is 0.991986175203\n"
     ]
    }
   ],
   "source": [
    "for category in categories:\n",
    "    print('... Processing {}'.format(category))\n",
    "    # train the model using X_dtm & y\n",
    "    SVC_pipeline.fit(X_train, train[category])\n",
    "    # compute the testing accuracy\n",
    "    prediction = SVC_pipeline.predict(X_test)\n",
    "    print \"**\",NB_pipeline.predict(X_cheche_test)\n",
    "    print \"***\",NB_pipeline.predict_proba(X_cheche_test)\n",
    "    print('Test accuracy is {}'.format(accuracy_score(test[category], prediction)))"
   ]
  },
  {
   "cell_type": "markdown",
   "metadata": {},
   "source": [
    "### Logistic Regression"
   ]
  },
  {
   "cell_type": "code",
   "execution_count": 43,
   "metadata": {},
   "outputs": [
    {
     "name": "stdout",
     "output_type": "stream",
     "text": [
      "... Processing toxic\n",
      "** [0 0 0 0 0 0 0 0 0]\n",
      "*** [[9.98413847e-01 1.58615279e-03]\n",
      " [9.99999952e-01 4.76239685e-08]\n",
      " [9.99385128e-01 6.14872290e-04]\n",
      " [9.98466239e-01 1.53376133e-03]\n",
      " [9.97380803e-01 2.61919749e-03]\n",
      " [9.97714879e-01 2.28512068e-03]\n",
      " [9.99995477e-01 4.52259756e-06]\n",
      " [1.00000000e+00 8.91833939e-11]\n",
      " [9.99906475e-01 9.35250136e-05]]\n",
      "Test accuracy is 0.954917487989\n",
      "... Processing severe_toxic\n",
      "** [0 0 0 0 0 0 0 0 0]\n",
      "*** [[9.98413847e-01 1.58615279e-03]\n",
      " [9.99999952e-01 4.76239685e-08]\n",
      " [9.99385128e-01 6.14872290e-04]\n",
      " [9.98466239e-01 1.53376133e-03]\n",
      " [9.97380803e-01 2.61919749e-03]\n",
      " [9.97714879e-01 2.28512068e-03]\n",
      " [9.99995477e-01 4.52259756e-06]\n",
      " [1.00000000e+00 8.91833939e-11]\n",
      " [9.99906475e-01 9.35250136e-05]]\n",
      "Test accuracy is 0.991055660001\n",
      "... Processing obscene\n",
      "** [0 0 0 0 0 0 0 0 0]\n",
      "*** [[9.98413847e-01 1.58615279e-03]\n",
      " [9.99999952e-01 4.76239685e-08]\n",
      " [9.99385128e-01 6.14872290e-04]\n",
      " [9.98466239e-01 1.53376133e-03]\n",
      " [9.97380803e-01 2.61919749e-03]\n",
      " [9.97714879e-01 2.28512068e-03]\n",
      " [9.99995477e-01 4.52259756e-06]\n",
      " [1.00000000e+00 8.91833939e-11]\n",
      " [9.99906475e-01 9.35250136e-05]]\n",
      "Test accuracy is 0.976091456351\n",
      "... Processing threat\n",
      "** [0 0 0 0 0 0 0 0 0]\n",
      "*** [[9.98413847e-01 1.58615279e-03]\n",
      " [9.99999952e-01 4.76239685e-08]\n",
      " [9.99385128e-01 6.14872290e-04]\n",
      " [9.98466239e-01 1.53376133e-03]\n",
      " [9.97380803e-01 2.61919749e-03]\n",
      " [9.97714879e-01 2.28512068e-03]\n",
      " [9.99995477e-01 4.52259756e-06]\n",
      " [1.00000000e+00 8.91833939e-11]\n",
      " [9.99906475e-01 9.35250136e-05]]\n",
      "Test accuracy is 0.997360375244\n",
      "... Processing insult\n",
      "** [0 0 0 0 0 0 0 0 0]\n",
      "*** [[9.98413847e-01 1.58615279e-03]\n",
      " [9.99999952e-01 4.76239685e-08]\n",
      " [9.99385128e-01 6.14872290e-04]\n",
      " [9.98466239e-01 1.53376133e-03]\n",
      " [9.97380803e-01 2.61919749e-03]\n",
      " [9.97714879e-01 2.28512068e-03]\n",
      " [9.99995477e-01 4.52259756e-06]\n",
      " [1.00000000e+00 8.91833939e-11]\n",
      " [9.99906475e-01 9.35250136e-05]]\n",
      "Test accuracy is 0.968742285269\n",
      "... Processing identity_hate\n",
      "** [0 0 0 0 0 0 0 0 0]\n",
      "*** [[9.98413847e-01 1.58615279e-03]\n",
      " [9.99999952e-01 4.76239685e-08]\n",
      " [9.99385128e-01 6.14872290e-04]\n",
      " [9.98466239e-01 1.53376133e-03]\n",
      " [9.97380803e-01 2.61919749e-03]\n",
      " [9.97714879e-01 2.28512068e-03]\n",
      " [9.99995477e-01 4.52259756e-06]\n",
      " [1.00000000e+00 8.91833939e-11]\n",
      " [9.99906475e-01 9.35250136e-05]]\n",
      "Test accuracy is 0.991758293929\n"
     ]
    }
   ],
   "source": [
    "LogReg_pipeline = Pipeline([\n",
    "                ('tfidf', TfidfVectorizer(stop_words=stop_words)),\n",
    "                ('clf', OneVsRestClassifier(LogisticRegression(solver='sag'), n_jobs=1)),\n",
    "            ])\n",
    "for category in categories:\n",
    "    print('... Processing {}'.format(category))\n",
    "    # train the model using X_dtm & y\n",
    "    LogReg_pipeline.fit(X_train, train[category])\n",
    "    # compute the testing accuracy\n",
    "    prediction = LogReg_pipeline.predict(X_test)\n",
    "    print \"**\",NB_pipeline.predict(X_cheche_test)\n",
    "    print \"***\",NB_pipeline.predict_proba(X_cheche_test)\n",
    "    print('Test accuracy is {}'.format(accuracy_score(test[category], prediction)))"
   ]
  },
  {
   "cell_type": "code",
   "execution_count": null,
   "metadata": {},
   "outputs": [],
   "source": []
  }
 ],
 "metadata": {
  "kernelspec": {
   "display_name": "Python 2",
   "language": "python",
   "name": "python2"
  },
  "language_info": {
   "codemirror_mode": {
    "name": "ipython",
    "version": 2
   },
   "file_extension": ".py",
   "mimetype": "text/x-python",
   "name": "python",
   "nbconvert_exporter": "python",
   "pygments_lexer": "ipython2",
   "version": "2.7.12"
  }
 },
 "nbformat": 4,
 "nbformat_minor": 2
}
